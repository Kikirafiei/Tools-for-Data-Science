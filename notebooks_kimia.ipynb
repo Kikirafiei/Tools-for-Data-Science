{
 "metadata": {
  "language_info": {
   "codemirror_mode": {
    "name": "python",
    "version": 3
   },
   "file_extension": ".py",
   "mimetype": "text/x-python",
   "name": "python",
   "nbconvert_exporter": "python",
   "pygments_lexer": "ipython3",
   "version": "3.8"
  },
  "kernelspec": {
   "name": "python",
   "display_name": "Python (Pyodide)",
   "language": "python"
  }
 },
 "nbformat_minor": 4,
 "nbformat": 4,
 "cells": [
  {
   "cell_type": "code",
   "source": [
    "<H1>My Jupyter Notebook on IBM Watson Studio<H1>"
   ],
   "metadata": {
    "pycharm": {
     "name": "#%%\n"
    }
   },
   "execution_count": null,
   "outputs": []
  },
  {
   "cell_type": "code",
   "source": [
    "<b>Kimia Rafiei Buzhani </b><br>Computational Biology Scientist"
   ],
   "metadata": {
    "pycharm": {
     "name": "#%%\n"
    }
   },
   "execution_count": null,
   "outputs": []
  },
  {
   "cell_type": "code",
   "source": [
    "<i>I am interested in data science because data i want to become a data scientist under the industry of Computational Biology ,I want to be able help clients to make make best real Estate investments\n",
    ", having huge command of Data science it will personally help me to make good business decisions. <i>"
   ],
   "metadata": {
    "pycharm": {
     "name": "#%%\n"
    }
   },
   "execution_count": null,
   "outputs": []
  },
  {
   "cell_type": "code",
   "source": [
    "h3>The Following Code will Display today's time and date</h3> "
   ],
   "metadata": {
    "pycharm": {
     "name": "#%%\n"
    }
   },
   "execution_count": null,
   "outputs": []
  },
  {
   "cell_type": "code",
   "source": [
    "import datetime \n",
    "message = \"Today's Date and Time is \" \n",
    "print (message , datetime.datetime.now() )"
   ],
   "metadata": {
    "pycharm": {
     "name": "#%%\n"
    }
   },
   "execution_count": null,
   "outputs": []
  },
  {
   "cell_type": "code",
   "source": [
    "<html>\n",
    "<header>\n",
    "</header>\n",
    "\n",
    "<body>\n",
    "    <section>\n",
    "        <h1> My favourite Fruits</h1>\n",
    "        <ol>\n",
    "            <li>Apricot</li>\n",
    "            <li>Peach</li>\n",
    "            <li>Pearl</li>\n",
    "            <li>Mango</li>\n",
    "            <li>Grapes</li>\n",
    "        </ol>\n",
    "        <hr>\n",
    "        <table border=\"1px\">\n",
    "            <tr>\n",
    "                <td><b>Needs</b></td>\n",
    "                <td><b>Wants</b></td>\n",
    "            </tr>\n",
    "            <tr>\n",
    "                <td>Water</td>\n",
    "                <td>Car</td>\n",
    "            </tr>\n",
    "            <tr>\n",
    "                <td>Food</td>\n",
    "                <td>Phone</td>\n",
    "            </tr>\n",
    "            <tr>\n",
    "                <td>Education</td>\n",
    "                <td>Computer</td>\n",
    "            </tr>\n",
    "            <tr>\n",
    "                <td>Medicine</td>\n",
    "                <td>Television</td>\n",
    "            </tr>\n",
    "        </table>\n",
    "        <br>\n",
    "        <hr>\n",
    "    </section>\n",
    "    <footer>\n",
    "        <a href=\"https://web.facebook.com/\">https://web.facebook.com/</a>\n",
    "    </footer>\n",
    "</body>\n",
    "</html>"
   ],
   "metadata": {
    "pycharm": {
     "name": "#%%\n"
    }
   },
   "execution_count": null,
   "outputs": []
  }
 ]
}